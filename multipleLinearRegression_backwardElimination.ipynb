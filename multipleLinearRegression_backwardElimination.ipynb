{
  "nbformat": 4,
  "nbformat_minor": 0,
  "metadata": {
    "colab": {
      "name": "multipleLinearRegression_backwardElimination.ipynb",
      "provenance": [],
      "collapsed_sections": []
    },
    "kernelspec": {
      "name": "python3",
      "display_name": "Python 3"
    },
    "language_info": {
      "name": "python"
    }
  },
  "cells": [
    {
      "cell_type": "markdown",
      "source": [
        "Here we see an example of multiple linear regression, where we have multiple independent variables and we will try to get predictions for height from other variables.\n",
        "We will also compile an OLS model to see the p-values and perform backward elimination."
      ],
      "metadata": {
        "id": "TbD_NJs3AQqc"
      }
    },
    {
      "cell_type": "code",
      "execution_count": 7,
      "metadata": {
        "id": "KvAu5gjxdcQk"
      },
      "outputs": [],
      "source": [
        "import numpy as np\n",
        "import pandas as pd\n",
        "import matplotlib.pyplot as plt\n",
        "from sklearn import preprocessing\n",
        "from sklearn.model_selection import train_test_split\n",
        "from sklearn.linear_model import LinearRegression\n",
        "\n",
        "data = pd.read_csv(\"data.csv\")\n",
        "\n",
        "le = preprocessing.LabelEncoder()\n",
        "ohe = preprocessing.OneHotEncoder()"
      ]
    },
    {
      "cell_type": "markdown",
      "source": [
        "Starting by converting the countries to one hot encodings and adding them to the dataframe"
      ],
      "metadata": {
        "id": "Z93THWjcA8CB"
      }
    },
    {
      "cell_type": "code",
      "source": [
        "country = data.iloc[:,0:1].values\n",
        "country[:,0] = le.fit_transform(country)\n",
        "\n",
        "country = ohe.fit_transform(country).toarray()\n",
        "country = pd.DataFrame(data=country, index=range(22), columns = ['fr','tr','us'])\n",
        "\n",
        "data = data.drop(['country'],axis=1)\n",
        "data = pd.concat([country,data],axis=1)\n",
        "\n",
        "print(data)"
      ],
      "metadata": {
        "colab": {
          "base_uri": "https://localhost:8080/"
        },
        "id": "tWLp1Dxhz94x",
        "outputId": "50226105-64ed-4a1a-9376-d4b999384401"
      },
      "execution_count": 8,
      "outputs": [
        {
          "output_type": "stream",
          "name": "stdout",
          "text": [
            "     fr   tr   us  height  weight  age gender\n",
            "0   0.0  1.0  0.0     130      30   10      m\n",
            "1   0.0  1.0  0.0     125      36   11      m\n",
            "2   0.0  1.0  0.0     135      34   10      f\n",
            "3   0.0  1.0  0.0     133      30    9      f\n",
            "4   0.0  1.0  0.0     129      38   12      m\n",
            "5   0.0  1.0  0.0     180      90   30      m\n",
            "6   0.0  1.0  0.0     190      80   25      m\n",
            "7   0.0  1.0  0.0     175      90   35      m\n",
            "8   0.0  1.0  0.0     177      60   22      f\n",
            "9   0.0  0.0  1.0     185     105   33      m\n",
            "10  0.0  0.0  1.0     165      55   27      f\n",
            "11  0.0  0.0  1.0     155      50   44      f\n",
            "12  0.0  0.0  1.0     160      58   39      f\n",
            "13  0.0  0.0  1.0     162      59   41      f\n",
            "14  0.0  0.0  1.0     167      62   55      f\n",
            "15  1.0  0.0  0.0     174      70   47      m\n",
            "16  1.0  0.0  0.0     193      90   23      m\n",
            "17  1.0  0.0  0.0     187      80   27      m\n",
            "18  1.0  0.0  0.0     183      88   28      m\n",
            "19  1.0  0.0  0.0     159      40   29      f\n",
            "20  1.0  0.0  0.0     164      66   32      f\n",
            "21  1.0  0.0  0.0     166      56   42      f\n"
          ]
        },
        {
          "output_type": "stream",
          "name": "stderr",
          "text": [
            "/usr/local/lib/python3.7/dist-packages/sklearn/preprocessing/_label.py:115: DataConversionWarning: A column-vector y was passed when a 1d array was expected. Please change the shape of y to (n_samples, ), for example using ravel().\n",
            "  y = column_or_1d(y, warn=True)\n"
          ]
        }
      ]
    },
    {
      "cell_type": "markdown",
      "source": [
        "Now converting gender values to 0s and 1s using the label encoder"
      ],
      "metadata": {
        "id": "su-QhNnDBE7y"
      }
    },
    {
      "cell_type": "code",
      "source": [
        "\n",
        "gender = data.iloc[:,6:7].values\n",
        "gender[:,0] = le.fit_transform(gender) # convert to 1 if \"m\", 0 if \"f\".\n",
        "\n",
        "gender = pd.DataFrame(data=gender, index=range(22), columns = ['gender'])\n",
        "\n",
        "# drop the old column and insert the encoded one\n",
        "data = data.drop(['gender'],axis=1)\n",
        "data = pd.concat([data,gender],axis=1)\n",
        "print(data)"
      ],
      "metadata": {
        "colab": {
          "base_uri": "https://localhost:8080/"
        },
        "id": "Z6ZW3Rio0s4A",
        "outputId": "26a58a31-2dbf-47f3-8f17-bc90292a5e2f"
      },
      "execution_count": 9,
      "outputs": [
        {
          "output_type": "stream",
          "name": "stdout",
          "text": [
            "     fr   tr   us  height  weight  age gender\n",
            "0   0.0  1.0  0.0     130      30   10      1\n",
            "1   0.0  1.0  0.0     125      36   11      1\n",
            "2   0.0  1.0  0.0     135      34   10      0\n",
            "3   0.0  1.0  0.0     133      30    9      0\n",
            "4   0.0  1.0  0.0     129      38   12      1\n",
            "5   0.0  1.0  0.0     180      90   30      1\n",
            "6   0.0  1.0  0.0     190      80   25      1\n",
            "7   0.0  1.0  0.0     175      90   35      1\n",
            "8   0.0  1.0  0.0     177      60   22      0\n",
            "9   0.0  0.0  1.0     185     105   33      1\n",
            "10  0.0  0.0  1.0     165      55   27      0\n",
            "11  0.0  0.0  1.0     155      50   44      0\n",
            "12  0.0  0.0  1.0     160      58   39      0\n",
            "13  0.0  0.0  1.0     162      59   41      0\n",
            "14  0.0  0.0  1.0     167      62   55      0\n",
            "15  1.0  0.0  0.0     174      70   47      1\n",
            "16  1.0  0.0  0.0     193      90   23      1\n",
            "17  1.0  0.0  0.0     187      80   27      1\n",
            "18  1.0  0.0  0.0     183      88   28      1\n",
            "19  1.0  0.0  0.0     159      40   29      0\n",
            "20  1.0  0.0  0.0     164      66   32      0\n",
            "21  1.0  0.0  0.0     166      56   42      0\n"
          ]
        },
        {
          "output_type": "stream",
          "name": "stderr",
          "text": [
            "/usr/local/lib/python3.7/dist-packages/sklearn/preprocessing/_label.py:115: DataConversionWarning: A column-vector y was passed when a 1d array was expected. Please change the shape of y to (n_samples, ), for example using ravel().\n",
            "  y = column_or_1d(y, warn=True)\n"
          ]
        }
      ]
    },
    {
      "cell_type": "markdown",
      "source": [
        "Predicting the height from other variables"
      ],
      "metadata": {
        "id": "DpojaksqBPuA"
      }
    },
    {
      "cell_type": "code",
      "source": [
        "height = data[['height']]\n",
        "data = data.drop(['height'],axis=1)\n",
        "\n",
        "x_train, x_test,y_train,y_test = train_test_split(data,height,test_size=0.33, random_state=42)\n",
        "\n",
        "linreg = LinearRegression()\n",
        "linreg.fit(x_train,y_train)\n",
        "\n",
        "y_pred = linreg.predict(x_test)\n",
        "print(y_pred)                        "
      ],
      "metadata": {
        "colab": {
          "base_uri": "https://localhost:8080/"
        },
        "id": "1HTu0ftJ2R_g",
        "outputId": "e1067463-234e-4529-d242-8ea70ba25729"
      },
      "execution_count": 10,
      "outputs": [
        {
          "output_type": "stream",
          "name": "stdout",
          "text": [
            "[[126.23083027]\n",
            " [161.90564073]\n",
            " [163.32006753]\n",
            " [131.67355   ]\n",
            " [174.21037819]\n",
            " [181.29693297]\n",
            " [179.09453874]\n",
            " [154.02906858]]\n"
          ]
        }
      ]
    },
    {
      "cell_type": "markdown",
      "source": [
        "This is where we will create the OLS model and perform the backward elimination. In the results, here we see that p value of x5 and x6 are very high, so they can be eliminated."
      ],
      "metadata": {
        "id": "AmRhoCXNBWXx"
      }
    },
    {
      "cell_type": "code",
      "source": [
        "#backward elimination\n",
        "import statsmodels.api as sm\n",
        "\n",
        "x_list = data.iloc[:,[0,1,2,3,4,5]]\n",
        "x_list = np.array(x_list,dtype=float)\n",
        "\n",
        "model = sm.OLS(height,x_list).fit()\n",
        "\n",
        "model.summary()\n"
      ],
      "metadata": {
        "colab": {
          "base_uri": "https://localhost:8080/",
          "height": 537
        },
        "id": "ewCb-Wk5-qqV",
        "outputId": "3d48b049-09f8-4135-ce2a-1a2dc3e63b2c"
      },
      "execution_count": 11,
      "outputs": [
        {
          "output_type": "execute_result",
          "data": {
            "text/plain": [
              "<class 'statsmodels.iolib.summary.Summary'>\n",
              "\"\"\"\n",
              "                            OLS Regression Results                            \n",
              "==============================================================================\n",
              "Dep. Variable:                 height   R-squared:                       0.885\n",
              "Model:                            OLS   Adj. R-squared:                  0.849\n",
              "Method:                 Least Squares   F-statistic:                     24.69\n",
              "Date:                Mon, 20 Jun 2022   Prob (F-statistic):           5.41e-07\n",
              "Time:                        20:22:27   Log-Likelihood:                -73.950\n",
              "No. Observations:                  22   AIC:                             159.9\n",
              "Df Residuals:                      16   BIC:                             166.4\n",
              "Df Model:                           5                                         \n",
              "Covariance Type:            nonrobust                                         \n",
              "==============================================================================\n",
              "                 coef    std err          t      P>|t|      [0.025      0.975]\n",
              "------------------------------------------------------------------------------\n",
              "x1           114.0688      8.145     14.005      0.000      96.802     131.335\n",
              "x2           108.3030      5.736     18.880      0.000      96.143     120.463\n",
              "x3           104.4714      9.195     11.361      0.000      84.978     123.964\n",
              "x4             0.9211      0.119      7.737      0.000       0.669       1.174\n",
              "x5             0.0814      0.221      0.369      0.717      -0.386       0.549\n",
              "x6           -10.5980      5.052     -2.098      0.052     -21.308       0.112\n",
              "==============================================================================\n",
              "Omnibus:                        1.031   Durbin-Watson:                   2.759\n",
              "Prob(Omnibus):                  0.597   Jarque-Bera (JB):                0.624\n",
              "Skew:                           0.407   Prob(JB):                        0.732\n",
              "Kurtosis:                       2.863   Cond. No.                         524.\n",
              "==============================================================================\n",
              "\n",
              "Warnings:\n",
              "[1] Standard Errors assume that the covariance matrix of the errors is correctly specified.\n",
              "\"\"\""
            ],
            "text/html": [
              "<table class=\"simpletable\">\n",
              "<caption>OLS Regression Results</caption>\n",
              "<tr>\n",
              "  <th>Dep. Variable:</th>         <td>height</td>      <th>  R-squared:         </th> <td>   0.885</td>\n",
              "</tr>\n",
              "<tr>\n",
              "  <th>Model:</th>                   <td>OLS</td>       <th>  Adj. R-squared:    </th> <td>   0.849</td>\n",
              "</tr>\n",
              "<tr>\n",
              "  <th>Method:</th>             <td>Least Squares</td>  <th>  F-statistic:       </th> <td>   24.69</td>\n",
              "</tr>\n",
              "<tr>\n",
              "  <th>Date:</th>             <td>Mon, 20 Jun 2022</td> <th>  Prob (F-statistic):</th> <td>5.41e-07</td>\n",
              "</tr>\n",
              "<tr>\n",
              "  <th>Time:</th>                 <td>20:22:27</td>     <th>  Log-Likelihood:    </th> <td> -73.950</td>\n",
              "</tr>\n",
              "<tr>\n",
              "  <th>No. Observations:</th>      <td>    22</td>      <th>  AIC:               </th> <td>   159.9</td>\n",
              "</tr>\n",
              "<tr>\n",
              "  <th>Df Residuals:</th>          <td>    16</td>      <th>  BIC:               </th> <td>   166.4</td>\n",
              "</tr>\n",
              "<tr>\n",
              "  <th>Df Model:</th>              <td>     5</td>      <th>                     </th>     <td> </td>   \n",
              "</tr>\n",
              "<tr>\n",
              "  <th>Covariance Type:</th>      <td>nonrobust</td>    <th>                     </th>     <td> </td>   \n",
              "</tr>\n",
              "</table>\n",
              "<table class=\"simpletable\">\n",
              "<tr>\n",
              "   <td></td>     <th>coef</th>     <th>std err</th>      <th>t</th>      <th>P>|t|</th>  <th>[0.025</th>    <th>0.975]</th>  \n",
              "</tr>\n",
              "<tr>\n",
              "  <th>x1</th> <td>  114.0688</td> <td>    8.145</td> <td>   14.005</td> <td> 0.000</td> <td>   96.802</td> <td>  131.335</td>\n",
              "</tr>\n",
              "<tr>\n",
              "  <th>x2</th> <td>  108.3030</td> <td>    5.736</td> <td>   18.880</td> <td> 0.000</td> <td>   96.143</td> <td>  120.463</td>\n",
              "</tr>\n",
              "<tr>\n",
              "  <th>x3</th> <td>  104.4714</td> <td>    9.195</td> <td>   11.361</td> <td> 0.000</td> <td>   84.978</td> <td>  123.964</td>\n",
              "</tr>\n",
              "<tr>\n",
              "  <th>x4</th> <td>    0.9211</td> <td>    0.119</td> <td>    7.737</td> <td> 0.000</td> <td>    0.669</td> <td>    1.174</td>\n",
              "</tr>\n",
              "<tr>\n",
              "  <th>x5</th> <td>    0.0814</td> <td>    0.221</td> <td>    0.369</td> <td> 0.717</td> <td>   -0.386</td> <td>    0.549</td>\n",
              "</tr>\n",
              "<tr>\n",
              "  <th>x6</th> <td>  -10.5980</td> <td>    5.052</td> <td>   -2.098</td> <td> 0.052</td> <td>  -21.308</td> <td>    0.112</td>\n",
              "</tr>\n",
              "</table>\n",
              "<table class=\"simpletable\">\n",
              "<tr>\n",
              "  <th>Omnibus:</th>       <td> 1.031</td> <th>  Durbin-Watson:     </th> <td>   2.759</td>\n",
              "</tr>\n",
              "<tr>\n",
              "  <th>Prob(Omnibus):</th> <td> 0.597</td> <th>  Jarque-Bera (JB):  </th> <td>   0.624</td>\n",
              "</tr>\n",
              "<tr>\n",
              "  <th>Skew:</th>          <td> 0.407</td> <th>  Prob(JB):          </th> <td>   0.732</td>\n",
              "</tr>\n",
              "<tr>\n",
              "  <th>Kurtosis:</th>      <td> 2.863</td> <th>  Cond. No.          </th> <td>    524.</td>\n",
              "</tr>\n",
              "</table><br/><br/>Warnings:<br/>[1] Standard Errors assume that the covariance matrix of the errors is correctly specified."
            ]
          },
          "metadata": {},
          "execution_count": 11
        }
      ]
    }
  ]
}
{
  "nbformat": 4,
  "nbformat_minor": 0,
  "metadata": {
    "colab": {
      "name": "SupportVectorRegression.ipynb",
      "provenance": [],
      "collapsed_sections": []
    },
    "kernelspec": {
      "name": "python3",
      "display_name": "Python 3"
    },
    "language_info": {
      "name": "python"
    }
  },
  "cells": [
    {
      "cell_type": "markdown",
      "source": [
        "Alright, let's also give a try to Support Regression, again using our salaries.csv file."
      ],
      "metadata": {
        "id": "YXPV2-0yKGTi"
      }
    },
    {
      "cell_type": "code",
      "execution_count": 40,
      "metadata": {
        "id": "W-RtUVYVKDFE"
      },
      "outputs": [],
      "source": [
        "import numpy as np\n",
        "import pandas as pd\n",
        "import matplotlib.pyplot as plt\n",
        "from sklearn.preprocessing import StandardScaler\n",
        "from sklearn.svm import SVR"
      ]
    },
    {
      "cell_type": "code",
      "source": [
        "data = pd.read_csv(\"salaries.csv\")\n",
        "\n",
        "x = data.iloc[:,1:2]\n",
        "y = data.iloc[:,2:]\n",
        "\n",
        "print(x)\n",
        "print(y)"
      ],
      "metadata": {
        "colab": {
          "base_uri": "https://localhost:8080/"
        },
        "id": "tw70HtOtKoGK",
        "outputId": "a2b81c96-0dea-4b29-85ff-790c6cd40287"
      },
      "execution_count": 41,
      "outputs": [
        {
          "output_type": "stream",
          "name": "stdout",
          "text": [
            "   educational level\n",
            "0                  1\n",
            "1                  2\n",
            "2                  3\n",
            "3                  4\n",
            "4                  5\n",
            "5                  6\n",
            "6                  7\n",
            "7                  8\n",
            "8                  9\n",
            "9                 10\n",
            "   salary\n",
            "0    2250\n",
            "1    2500\n",
            "2    3000\n",
            "3    4000\n",
            "4    5500\n",
            "5    7500\n",
            "6   10000\n",
            "7   15000\n",
            "8   25000\n",
            "9   50000\n"
          ]
        }
      ]
    },
    {
      "cell_type": "markdown",
      "source": [
        "What's a core point here to pay attention is the requirement of SVR to be used with a scaler, since it cannot work well with outlier data."
      ],
      "metadata": {
        "id": "mMAqJ1HfK2IP"
      }
    },
    {
      "cell_type": "code",
      "source": [
        "sc = StandardScaler()\n",
        "\n",
        "x = sc.fit_transform(x)\n",
        "y = sc.fit_transform(y)\n",
        "\n",
        "print(x)\n",
        "print(y)"
      ],
      "metadata": {
        "colab": {
          "base_uri": "https://localhost:8080/"
        },
        "id": "3cBPDdgGLSL9",
        "outputId": "e9fb770c-71fc-4992-c705-d04436f9e2ab"
      },
      "execution_count": 42,
      "outputs": [
        {
          "output_type": "stream",
          "name": "stdout",
          "text": [
            "[[-1.5666989 ]\n",
            " [-1.21854359]\n",
            " [-0.87038828]\n",
            " [-0.52223297]\n",
            " [-0.17407766]\n",
            " [ 0.17407766]\n",
            " [ 0.52223297]\n",
            " [ 0.87038828]\n",
            " [ 1.21854359]\n",
            " [ 1.5666989 ]]\n",
            "[[-0.72004253]\n",
            " [-0.70243757]\n",
            " [-0.66722767]\n",
            " [-0.59680786]\n",
            " [-0.49117815]\n",
            " [-0.35033854]\n",
            " [-0.17428902]\n",
            " [ 0.17781001]\n",
            " [ 0.88200808]\n",
            " [ 2.64250325]]\n"
          ]
        }
      ]
    },
    {
      "cell_type": "markdown",
      "source": [
        "Good, since we scaled our data, we can pass to the actual phase. SVR works with a kernel, I'll try the linear, polynomial, sigmoid and RBF(default) one. Let's start with trying the linear kernel:"
      ],
      "metadata": {
        "id": "_dJ1_U8tNWnP"
      }
    },
    {
      "cell_type": "code",
      "source": [
        "svr = SVR(kernel=\"linear\")\n",
        "\n",
        "svr.fit(x,y)\n",
        "y_pred = svr.predict(x)\n",
        "\n",
        "plt.plot(x,y,\"p\")\n",
        "plt.plot(x,y_pred)\n",
        "plt.show()\n"
      ],
      "metadata": {
        "colab": {
          "base_uri": "https://localhost:8080/",
          "height": 320
        },
        "id": "tAIfYBo8Mmgp",
        "outputId": "c93d469b-bf9c-4b79-9f2d-070ac8ab6df9"
      },
      "execution_count": 43,
      "outputs": [
        {
          "output_type": "stream",
          "name": "stderr",
          "text": [
            "/usr/local/lib/python3.7/dist-packages/sklearn/utils/validation.py:993: DataConversionWarning: A column-vector y was passed when a 1d array was expected. Please change the shape of y to (n_samples, ), for example using ravel().\n",
            "  y = column_or_1d(y, warn=True)\n"
          ]
        },
        {
          "output_type": "display_data",
          "data": {
            "text/plain": [
              "<Figure size 432x288 with 1 Axes>"
            ],
            "image/png": "[encoded data removed]"
          },
          "metadata": {
            "needs_background": "light"
          }
        }
      ]
    },
    {
      "cell_type": "markdown",
      "source": [
        "Then, the polynomial one:"
      ],
      "metadata": {
        "id": "8p-Jv8MNNsKO"
      }
    },
    {
      "cell_type": "code",
      "source": [
        "svr = SVR(kernel=\"poly\")\n",
        "\n",
        "svr.fit(x,y)\n",
        "y_pred = svr.predict(x)\n",
        "\n",
        "plt.plot(x,y,\"p\")\n",
        "plt.plot(x,y_pred)\n",
        "plt.show()"
      ],
      "metadata": {
        "colab": {
          "base_uri": "https://localhost:8080/",
          "height": 320
        },
        "id": "FPoJ1RaZNur0",
        "outputId": "0a129e34-218a-4445-cc00-e2037ea2a9d5"
      },
      "execution_count": 44,
      "outputs": [
        {
          "output_type": "stream",
          "name": "stderr",
          "text": [
            "/usr/local/lib/python3.7/dist-packages/sklearn/utils/validation.py:993: DataConversionWarning: A column-vector y was passed when a 1d array was expected. Please change the shape of y to (n_samples, ), for example using ravel().\n",
            "  y = column_or_1d(y, warn=True)\n"
          ]
        },
        {
          "output_type": "display_data",
          "data": {
            "text/plain": [
              "<Figure size 432x288 with 1 Axes>"
            ],
            "image/png": "[encoded data removed]"
          },
          "metadata": {
            "needs_background": "light"
          }
        }
      ]
    },
    {
      "cell_type": "markdown",
      "source": [
        "Then, the RBF:"
      ],
      "metadata": {
        "id": "HqMCzreKPLw-"
      }
    },
    {
      "cell_type": "code",
      "source": [
        "svr = SVR(kernel=\"rbf\")\n",
        "\n",
        "svr.fit(x,y)\n",
        "y_pred = svr.predict(x)\n",
        "\n",
        "plt.plot(x,y,\"p\")\n",
        "plt.plot(x,y_pred)\n",
        "plt.show()"
      ],
      "metadata": {
        "colab": {
          "base_uri": "https://localhost:8080/",
          "height": 320
        },
        "id": "pHkx4sOGOjOA",
        "outputId": "facab9c3-e6b2-4f66-d084-7858dc9ca4a3"
      },
      "execution_count": 45,
      "outputs": [
        {
          "output_type": "stream",
          "name": "stderr",
          "text": [
            "/usr/local/lib/python3.7/dist-packages/sklearn/utils/validation.py:993: DataConversionWarning: A column-vector y was passed when a 1d array was expected. Please change the shape of y to (n_samples, ), for example using ravel().\n",
            "  y = column_or_1d(y, warn=True)\n"
          ]
        },
        {
          "output_type": "display_data",
          "data": {
            "text/plain": [
              "<Figure size 432x288 with 1 Axes>"
            ],
            "image/png": "[encoded data removed]"
          },
          "metadata": {
            "needs_background": "light"
          }
        }
      ]
    },
    {
      "cell_type": "markdown",
      "source": [
        "And finally, sigmoid:"
      ],
      "metadata": {
        "id": "zieB29aQPOYN"
      }
    },
    {
      "cell_type": "code",
      "source": [
        "svr = SVR(kernel=\"sigmoid\")\n",
        "\n",
        "svr.fit(x,y)\n",
        "y_pred = svr.predict(x)\n",
        "\n",
        "plt.plot(x,y,\"p\")\n",
        "plt.plot(x,y_pred)\n",
        "plt.show()"
      ],
      "metadata": {
        "colab": {
          "base_uri": "https://localhost:8080/",
          "height": 320
        },
        "id": "76Qu8ezCOl0R",
        "outputId": "8fa4ee60-284d-4541-b12c-94d876e26360"
      },
      "execution_count": 46,
      "outputs": [
        {
          "output_type": "stream",
          "name": "stderr",
          "text": [
            "/usr/local/lib/python3.7/dist-packages/sklearn/utils/validation.py:993: DataConversionWarning: A column-vector y was passed when a 1d array was expected. Please change the shape of y to (n_samples, ), for example using ravel().\n",
            "  y = column_or_1d(y, warn=True)\n"
          ]
        },
        {
          "output_type": "display_data",
          "data": {
            "text/plain": [
              "<Figure size 432x288 with 1 Axes>"
            ],
            "image/png": "[encoded data removed]"
          },
          "metadata": {
            "needs_background": "light"
          }
        }
      ]
    },
    {
      "cell_type": "markdown",
      "source": [
        "All in all, it looks like going on with RBF would make more sense in this case."
      ],
      "metadata": {
        "id": "Aj1TXcCTPURr"
      }
    }
  ]
}
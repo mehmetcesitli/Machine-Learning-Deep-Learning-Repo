{
  "nbformat": 4,
  "nbformat_minor": 0,
  "metadata": {
    "colab": {
      "name": "polynomialRegression.ipynb",
      "provenance": []
    },
    "kernelspec": {
      "name": "python3",
      "display_name": "Python 3"
    },
    "language_info": {
      "name": "python"
    }
  },
  "cells": [
    {
      "cell_type": "markdown",
      "source": [
        "Here we will illustrate polynomial regression from different degrees, and compare the differences between the ways that our curves fit the data."
      ],
      "metadata": {
        "id": "SpzgNR0DFP1y"
      }
    },
    {
      "cell_type": "code",
      "execution_count": 2,
      "metadata": {
        "id": "1TIyhw2FEmme"
      },
      "outputs": [],
      "source": [
        "import numpy as np\n",
        "import pandas as pd\n",
        "import matplotlib.pyplot as plt\n",
        "from sklearn.model_selection import train_test_split\n",
        "from sklearn.linear_model import LinearRegression\n",
        "from sklearn.preprocessing import PolynomialFeatures"
      ]
    },
    {
      "cell_type": "code",
      "source": [
        "data = pd.read_csv(\"salaries.csv\")\n",
        "print(data)"
      ],
      "metadata": {
        "colab": {
          "base_uri": "https://localhost:8080/"
        },
        "id": "RV90WhINEwEy",
        "outputId": "3ce4312c-99a2-4377-f5b9-eef185feb090"
      },
      "execution_count": 3,
      "outputs": [
        {
          "output_type": "stream",
          "name": "stdout",
          "text": [
            "                   title  educational level  salary\n",
            "0             Office boy                  1    2250\n",
            "1              secretary                  2    2500\n",
            "2   Assistant Specialist                  3    3000\n",
            "3             Specialist                  4    4000\n",
            "4        Project Manager                  5    5500\n",
            "5                  chief                  6    7500\n",
            "6                manager                  7   10000\n",
            "7               director                  8   15000\n",
            "8                C-level                  9   25000\n",
            "9                    CEO                 10   50000\n"
          ]
        }
      ]
    },
    {
      "cell_type": "markdown",
      "source": [
        "Starting again with a simple linear regression to see the difference between the graphs."
      ],
      "metadata": {
        "id": "XcjR0z1tFoVl"
      }
    },
    {
      "cell_type": "code",
      "source": [
        "x = data.iloc[:,1:2]\n",
        "y = data.iloc[:,2:]\n",
        "\n",
        "print(x)\n",
        "print(y)\n",
        "\n",
        "x=x.values\n",
        "y=y.values"
      ],
      "metadata": {
        "colab": {
          "base_uri": "https://localhost:8080/"
        },
        "id": "ryDwHoTJFKhG",
        "outputId": "5338dda9-a6df-42cb-a632-269d882b0024"
      },
      "execution_count": 4,
      "outputs": [
        {
          "output_type": "stream",
          "name": "stdout",
          "text": [
            "   educational level\n",
            "0                  1\n",
            "1                  2\n",
            "2                  3\n",
            "3                  4\n",
            "4                  5\n",
            "5                  6\n",
            "6                  7\n",
            "7                  8\n",
            "8                  9\n",
            "9                 10\n",
            "   salary\n",
            "0    2250\n",
            "1    2500\n",
            "2    3000\n",
            "3    4000\n",
            "4    5500\n",
            "5    7500\n",
            "6   10000\n",
            "7   15000\n",
            "8   25000\n",
            "9   50000\n"
          ]
        }
      ]
    },
    {
      "cell_type": "code",
      "source": [
        "linreg = LinearRegression()\n",
        "linreg.fit(x,y)\n",
        "y_pred = linreg.predict(x)\n",
        "\n",
        "plt.plot(x,y,\"p\")\n",
        "plt.plot(x,y_pred)\n",
        "plt.show()"
      ],
      "metadata": {
        "colab": {
          "base_uri": "https://localhost:8080/",
          "height": 265
        },
        "id": "93c-c7Z3FPCe",
        "outputId": "9d0536dc-2dc8-45a1-a8c4-4d6e06456f94"
      },
      "execution_count": 5,
      "outputs": [
        {
          "output_type": "display_data",
          "data": {
            "text/plain": [
              "<Figure size 432x288 with 1 Axes>"
            ],
            "image/png": "[encoded data removed]"
          },
          "metadata": {
            "needs_background": "light"
          }
        }
      ]
    },
    {
      "cell_type": "markdown",
      "source": [
        "Good, so now we can go on with polynomial regression. We'll start with a degree of 2."
      ],
      "metadata": {
        "id": "QXnMfdl6yTPR"
      }
    },
    {
      "cell_type": "code",
      "source": [
        "polyreg = PolynomialFeatures(degree = 2) # We can create polynomials of any degree\n",
        "x_poly = polyreg.fit_transform(x) \n",
        "print(x_poly)\n",
        "\n",
        "linreg.fit(x_poly,y) # Again using the linear regression object, this time with polynomials.\n",
        "\n",
        "y_pred = linreg.predict(x_poly)\n",
        "\n",
        "plt.plot(x,y,\"p\")\n",
        "plt.plot(x,y_pred)\n",
        "plt.show()"
      ],
      "metadata": {
        "colab": {
          "base_uri": "https://localhost:8080/",
          "height": 439
        },
        "id": "V3Vpl4paFKZ2",
        "outputId": "43a030cf-8924-4c65-ab3c-fb59c5adb412"
      },
      "execution_count": 11,
      "outputs": [
        {
          "output_type": "stream",
          "name": "stdout",
          "text": [
            "[[  1.   1.   1.]\n",
            " [  1.   2.   4.]\n",
            " [  1.   3.   9.]\n",
            " [  1.   4.  16.]\n",
            " [  1.   5.  25.]\n",
            " [  1.   6.  36.]\n",
            " [  1.   7.  49.]\n",
            " [  1.   8.  64.]\n",
            " [  1.   9.  81.]\n",
            " [  1.  10. 100.]]\n"
          ]
        },
        {
          "output_type": "display_data",
          "data": {
            "text/plain": [
              "<Figure size 432x288 with 1 Axes>"
            ],
            "image/png": "[encoded data removed]"
          },
          "metadata": {
            "needs_background": "light"
          }
        }
      ]
    },
    {
      "cell_type": "markdown",
      "source": [
        "Alright, there we have a nice curve! Can we have a better one though? Let's try with a degree of 3."
      ],
      "metadata": {
        "id": "ny_Djxdl4Pm0"
      }
    },
    {
      "cell_type": "code",
      "source": [
        "polyreg = PolynomialFeatures(degree = 3)\n",
        "x_poly = polyreg.fit_transform(x) \n",
        "print(x_poly)\n",
        "\n",
        "linreg.fit(x_poly,y)\n",
        "\n",
        "y_pred = linreg.predict(x_poly)\n",
        "\n",
        "plt.plot(x,y,\"p\")\n",
        "plt.plot(x,y_pred)\n",
        "plt.show()"
      ],
      "metadata": {
        "colab": {
          "base_uri": "https://localhost:8080/",
          "height": 439
        },
        "id": "I1aSOcw9387z",
        "outputId": "bbbd3b16-8d67-42c0-97cf-58c3e3d66ad1"
      },
      "execution_count": 13,
      "outputs": [
        {
          "output_type": "stream",
          "name": "stdout",
          "text": [
            "[[   1.    1.    1.    1.]\n",
            " [   1.    2.    4.    8.]\n",
            " [   1.    3.    9.   27.]\n",
            " [   1.    4.   16.   64.]\n",
            " [   1.    5.   25.  125.]\n",
            " [   1.    6.   36.  216.]\n",
            " [   1.    7.   49.  343.]\n",
            " [   1.    8.   64.  512.]\n",
            " [   1.    9.   81.  729.]\n",
            " [   1.   10.  100. 1000.]]\n"
          ]
        },
        {
          "output_type": "display_data",
          "data": {
            "text/plain": [
              "<Figure size 432x288 with 1 Axes>"
            ],
            "image/png": "[encoded data removed]"
          },
          "metadata": {
            "needs_background": "light"
          }
        }
      ]
    },
    {
      "cell_type": "markdown",
      "source": [
        "Looks better, huh? Now let's try the exact same thing, this time using a polynomial of degree 4."
      ],
      "metadata": {
        "id": "--WAZs-Wz7hl"
      }
    },
    {
      "cell_type": "code",
      "source": [
        "polyreg = PolynomialFeatures(degree = 4) # We can create polynomials of any degree\n",
        "x_poly = polyreg.fit_transform(x) \n",
        "print(x_poly)\n",
        "\n",
        "linreg.fit(x_poly,y) # Again using the linear regression object, this time with polynomials.\n",
        "\n",
        "y_pred = linreg.predict(x_poly)\n",
        "\n",
        "plt.plot(x,y,\"p\")\n",
        "plt.plot(x,y_pred)\n",
        "plt.show()"
      ],
      "metadata": {
        "colab": {
          "base_uri": "https://localhost:8080/",
          "height": 439
        },
        "id": "mcIBzP2u0KZV",
        "outputId": "6342f777-1c06-4540-d5fb-d08859c360e9"
      },
      "execution_count": 12,
      "outputs": [
        {
          "output_type": "stream",
          "name": "stdout",
          "text": [
            "[[1.000e+00 1.000e+00 1.000e+00 1.000e+00 1.000e+00]\n",
            " [1.000e+00 2.000e+00 4.000e+00 8.000e+00 1.600e+01]\n",
            " [1.000e+00 3.000e+00 9.000e+00 2.700e+01 8.100e+01]\n",
            " [1.000e+00 4.000e+00 1.600e+01 6.400e+01 2.560e+02]\n",
            " [1.000e+00 5.000e+00 2.500e+01 1.250e+02 6.250e+02]\n",
            " [1.000e+00 6.000e+00 3.600e+01 2.160e+02 1.296e+03]\n",
            " [1.000e+00 7.000e+00 4.900e+01 3.430e+02 2.401e+03]\n",
            " [1.000e+00 8.000e+00 6.400e+01 5.120e+02 4.096e+03]\n",
            " [1.000e+00 9.000e+00 8.100e+01 7.290e+02 6.561e+03]\n",
            " [1.000e+00 1.000e+01 1.000e+02 1.000e+03 1.000e+04]]\n"
          ]
        },
        {
          "output_type": "display_data",
          "data": {
            "text/plain": [
              "<Figure size 432x288 with 1 Axes>"
            ],
            "image/png": "[encoded data removed]"
          },
          "metadata": {
            "needs_background": "light"
          }
        }
      ]
    },
    {
      "cell_type": "markdown",
      "source": [
        "See? This is looks like a quite better fit. We can use polynomial of any degree depending on our data. **Pay attention not to overfit your data though!**"
      ],
      "metadata": {
        "id": "Es_2J7Ag0P9y"
      }
    }
  ]
}
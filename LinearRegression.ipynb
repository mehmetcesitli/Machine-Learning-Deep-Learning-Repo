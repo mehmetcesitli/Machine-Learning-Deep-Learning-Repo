{
  "nbformat": 4,
  "nbformat_minor": 0,
  "metadata": {
    "colab": {
      "name": "LinReg.ipynb",
      "provenance": [],
      "collapsed_sections": []
    },
    "kernelspec": {
      "name": "python3",
      "display_name": "Python 3"
    },
    "language_info": {
      "name": "python"
    }
  },
  "cells": [
    {
      "cell_type": "code",
      "execution_count": 14,
      "metadata": {
        "colab": {
          "base_uri": "https://localhost:8080/",
          "height": 803
        },
        "id": "sehZSjwd2sXA",
        "outputId": "87f448cd-60dd-4034-d050-e3d49129d614"
      },
      "outputs": [
        {
          "output_type": "stream",
          "name": "stdout",
          "text": [
            "    Months    Sales\n",
            "0        8  19671.5\n",
            "1       10  23102.5\n",
            "2       11  18865.5\n",
            "3       13  21762.5\n",
            "4       14  19945.5\n",
            "5       19  28321.0\n",
            "6       19  30075.0\n",
            "7       20  27222.5\n",
            "8       20  32222.5\n",
            "9       24  28594.5\n",
            "10      25  31609.0\n",
            "11      25  27897.0\n",
            "12      25  28478.5\n",
            "13      26  28540.5\n",
            "14      29  30555.5\n",
            "15      31  33969.0\n",
            "16      32  33014.5\n",
            "17      34  41544.0\n",
            "18      37  40681.5\n",
            "19      37   4697.0\n",
            "20      42  45869.0\n",
            "21      44  49136.5\n",
            "22      49  50651.0\n",
            "23      50  56906.0\n",
            "24      54  54715.5\n",
            "25      55  52791.0\n",
            "26      59  58484.5\n",
            "27      59  56317.5\n",
            "28      64  61195.5\n",
            "29      65  60936.0\n"
          ]
        },
        {
          "output_type": "display_data",
          "data": {
            "text/plain": [
              "<Figure size 432x288 with 1 Axes>"
            ],
            "image/png": "[encoded data removed]"
          },
          "metadata": {
            "needs_background": "light"
          }
        }
      ],
      "source": [
        "# Linear Regression\n",
        "\n",
        "import numpy as np\n",
        "import pandas as pd\n",
        "import matplotlib.pyplot as plt\n",
        "from sklearn.model_selection import train_test_split\n",
        "from sklearn.preprocessing import StandardScaler\n",
        "from sklearn.linear_model import LinearRegression\n",
        "\n",
        "data = pd.read_csv(\"sales.csv\")\n",
        "print(data)\n",
        "\n",
        "months = data[['Months']]\n",
        "sales = data[['Sales']]\n",
        "\n",
        "x_train, x_test,y_train,y_test = train_test_split(months,sales,test_size=0.33, random_state=42)\n",
        "\n",
        "# A scaler can be used to scale the data to a smaller interval.\n",
        "\n",
        "# scaler = StandardScaler()\n",
        "# x_train = scaler.fit_transform(x_train)\n",
        "# x_test = scaler.fit_transform(x_test)\n",
        "\n",
        "linreg = LinearRegression()\n",
        "linreg.fit(x_train,y_train)\n",
        "\n",
        "pred = linreg.predict(x_test)\n",
        "\n",
        "x_train = x_train.sort_index()\n",
        "y_train = y_train.sort_index()\n",
        "\n",
        "plt.plot(x_train,y_train, \"p\")\n",
        "plt.plot(x_test,pred)\n",
        "plt.show()\n"
      ]
    }
  ]
}